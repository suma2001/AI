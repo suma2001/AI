{
  "nbformat": 4,
  "nbformat_minor": 0,
  "metadata": {
    "colab": {
      "name": "City Capitals.ipynb",
      "provenance": [],
      "collapsed_sections": []
    },
    "kernelspec": {
      "name": "python3",
      "display_name": "Python 3"
    }
  },
  "cells": [
    {
      "cell_type": "code",
      "metadata": {
        "id": "hcgy7mKnkH9I",
        "colab_type": "code",
        "colab": {}
      },
      "source": [
        "import pandas as pd\n",
        "import time\n",
        "df = pd.read_excel('Indian_capitals.xlsx', header=None)\n",
        "from collections import deque\n",
        "from heapq import heappop, heappush, heapify\n",
        "from locationiq.geocoder import LocationIQ\n",
        "from math import radians, sin, cos, acos\n",
        "\n",
        "geocoder = LocationIQ('10db090e679efa')\n",
        "coordinates={}"
      ],
      "execution_count": 0,
      "outputs": []
    },
    {
      "cell_type": "code",
      "metadata": {
        "id": "kD35NxC8p97I",
        "colab_type": "code",
        "colab": {}
      },
      "source": [
        "def coordinate_values():\n",
        "\tcapitals = []\n",
        "\tfor i in df[0]:\n",
        "\t\tif i not in capitals:\n",
        "\t\t\tcapitals.append(i)\n",
        "\tfor i in df[1]:\n",
        "\t\tif i not in capitals:\n",
        "\t\t\tcapitals.append(i)\n",
        "\t# print(capitals)\n",
        "\tfor a in capitals:\n",
        "\t\ttime.sleep(1)\n",
        "\t\tpla = geocoder.geocode(a)[0]\n",
        "\n",
        "\t\tlati = radians(float(pla['lat']))\n",
        "\t\tlongi = radians(float(pla['lon']))\n",
        "\t\tcoordinates[a] = (lati, longi)\n",
        "\n",
        "\t# print(coordinates)\n",
        "\n",
        "coordinate_values()"
      ],
      "execution_count": 0,
      "outputs": []
    },
    {
      "cell_type": "code",
      "metadata": {
        "id": "qCJOiz45-jnM",
        "colab_type": "code",
        "colab": {}
      },
      "source": [
        "def stepcost(state1, state2):\n",
        "\tif not df.where(df[0]==state1).dropna().empty:\n",
        "\t\tif not df.where(df[1]==state2).dropna().empty: \n",
        "\t\t\tweight = ((df.where(df[0]==state1).dropna())[2])\n",
        "\tif not df.where(df[1]==state2).dropna().empty:\n",
        "\t\tif not df.where(df[0]==state1).dropna().empty: \n",
        "\t\t\tweight = ((df.where(df[1]==state1).dropna())[2])\n",
        "\twt=[]\n",
        "\tfor i in weight:\n",
        "\t\twt.append(i)\n",
        "\twt = float(wt[0])\n",
        "\treturn wt\n",
        "\t# print(wt)\n"
      ],
      "execution_count": 0,
      "outputs": []
    },
    {
      "cell_type": "code",
      "metadata": {
        "id": "zJ8j0lHR_Xm2",
        "colab_type": "code",
        "colab": {}
      },
      "source": [
        "def heuristic(state, goal):\n",
        "\tslat = coordinates[state][0]\n",
        "\tslon = coordinates[state][1]\n",
        "\telat = coordinates[goal][0]\n",
        "\telon = coordinates[goal][1]\n",
        "\tdist = 6371.01 * acos(sin(slat)*sin(elat) + cos(slat)*cos(elat)*cos(slon-elon))\n",
        "\t# print(dist)\n",
        "\treturn dist"
      ],
      "execution_count": 0,
      "outputs": []
    },
    {
      "cell_type": "code",
      "metadata": {
        "id": "wCGc2cfn_ykq",
        "colab_type": "code",
        "colab": {}
      },
      "source": [
        "class Problem:\n",
        "\n",
        "\tdef __init__(self, initial_state, goal):\n",
        "\t\tself.initial_state = initial_state\n",
        "\t\tself.goal = goal\n",
        "\n",
        "\tdef actions(self, node):\n",
        "\t\t# print(\"I am in\", node, node.state)\n",
        "\t\tseq = []\n",
        "\t\tp1 = ((df.where(df[0]==node.state).dropna())[1])\n",
        "\t\tp2 = ((df.where(df[1]==node.state).dropna())[0])\n",
        "\n",
        "\t\tfor i in p1:\n",
        "\t\t\tseq.append(i)\n",
        "\t\tfor i in p2:\n",
        "\t\t\tseq.append(i)\n",
        "\t\treturn seq\n",
        "\n",
        "\tdef transitionModel(self, state, action):\n",
        "\t\treturn action\n",
        "\n",
        "\tdef goal_test(self, state):\n",
        "\t\t# print(\"this is inside goal :\",str(state).replace(\" \",\"\"), self.goal)\n",
        "\t\tplace = str(state).replace(\" \",\"\")\n",
        "\t\tif place == self.goal:\n",
        "\t\t\treturn True\n",
        "\t\telse:\n",
        "\t\t\treturn False\n",
        "\n",
        "\tdef pathCost(self, state1, cost):\n",
        "\t\t# print(\"Total cost: \", cost + state1.path_cost)\n",
        "\t\treturn state1.path_cost + cost  ## here cost is 1 for BFS"
      ],
      "execution_count": 0,
      "outputs": []
    },
    {
      "cell_type": "code",
      "metadata": {
        "id": "bYbMb6Lj_2Hv",
        "colab_type": "code",
        "colab": {}
      },
      "source": [
        "class Node:\n",
        "\tdef __init__(self, state, parent, action, path_cost=0, heuristic=0, tot=0):\n",
        "\t\tself.state = state\n",
        "\t\tself.parent = parent\n",
        "\t\tself.action = action\n",
        "\t\tself.path_cost = path_cost\n",
        "\t\tself.heuristic = heuristic\n",
        "\t\tself.tot = tot\n",
        "\t\t# if parent:\n",
        "\t\t# \tself.path_cost = parent.path_cost + step\n",
        "\t\t# else:\n",
        "\t\t# \tself.path_cost=0\n",
        "\n",
        "\tdef __lt__(self, other):\n",
        "\t\treturn self.heuristic < other.heuristic\n",
        "\n",
        "\tdef child_node(self, problem, action):\n",
        "\t\tnew_state = problem.transitionModel(self.state, action)\n",
        "\n",
        "\t\tif not df.where(df[0]==self.state).dropna().empty:\n",
        "\t\t\tif not df.where(df[1]==new_state).dropna().empty: \n",
        "\t\t\t\tweight = ((df.where(df[0]==self.state).dropna())[2])\n",
        "\t\tif not df.where(df[1]==self.state).dropna().empty:\n",
        "\t\t\tif not df.where(df[0]==new_state).dropna().empty: \n",
        "\t\t\t\tweight = ((df.where(df[1]==self.state).dropna())[2])\n",
        "\t\twt=[]\n",
        "\t\tfor i in weight:\n",
        "\t\t\twt.append(i)\n",
        "\t\twt = float(wt[0])\n",
        "\n",
        "\t\tcost = problem.pathCost(self, wt)\n",
        "\t\treturn Node(new_state, self, action, cost)\n",
        "\n",
        "\tdef solution(self):\n",
        "\t\tpath = []\n",
        "\t\tnode = self\n",
        "\t\twhile node:\n",
        "\t\t\tpath.append(node.action)\n",
        "\t\t\tnode = node.parent \n",
        "\t\treturn path"
      ],
      "execution_count": 0,
      "outputs": []
    },
    {
      "cell_type": "code",
      "metadata": {
        "id": "3AUWDDghASqx",
        "colab_type": "code",
        "outputId": "66c6b72d-4b6e-4a08-b976-8a3bf1448a93",
        "colab": {
          "base_uri": "https://localhost:8080/",
          "height": 156
        }
      },
      "source": [
        "class ProblemSolvingAgent:\n",
        "\n",
        "\tdef __init__(self, initial_state):\n",
        "\t\tself.initial_state = initial_state\n",
        "\t\tself.seq = []\n",
        "\n",
        "\tdef call_agent(self, percept, mode):\n",
        "\t\tgoal = self.formulate_goal()\n",
        "\t\tproblem = self.problem_formulation(self.initial_state, goal)\n",
        "\t\tself.seq.append(self.search(problem, mode))\n",
        "\t\tif not self.seq:\n",
        "\t\t\treturn None\n",
        "\n",
        "\t\treturn self.seq.pop(0)\n",
        "\n",
        "\tdef update_state(self, state, percept):\n",
        "\t\treturn percept\n",
        "\n",
        "\tdef formulate_goal(self):\n",
        "\t\tgoal = goal_state\n",
        "\t\tif goal==\"Bengaluru\":\n",
        "\t\t\tgoal = \"Bangalore\"\n",
        "\t\treturn goal\n",
        "\n",
        "\tdef problem_formulation(self, state, goal):\n",
        "\t\treturn Problem(state, goal)\n",
        "\n",
        "\tdef search(self, problem, type):\n",
        "\t\tnode = Node(problem.initial_state, None, None, 0)\n",
        "\t\tif type==\"BFS\":\n",
        "\t\t\tini_node = Node(problem.initial_state, None, None, 0)\n",
        "\t\t\tif problem.goal_test(ini_node.state):\n",
        "\t\t\t\tprint(ini_node.solution())\n",
        "\t\t\t\treturn ini_node.solution()\n",
        "\n",
        "\t\t\tqueue = deque([ini_node])\n",
        "\t\t\texplored_set = set()\n",
        "\t\t\twhile queue:\n",
        "\t\t\t\tnode = queue.popleft()\n",
        "\t\t\t\texplored_set.add(node)\n",
        "\t\t\t\tfor action in problem.actions(node):\n",
        "\t\t\t\t\tchild = node.child_node(problem, action)\n",
        "\t\t\t\t\tif child not in queue and child not in explored_set:\n",
        "\t\t\t\t\t\tif problem.goal_test(child.state):\n",
        "\t\t\t\t\t\t\tprint(\"Sequence of actions are: \")\n",
        "\t\t\t\t\t\t\treturn child.solution()\n",
        "\t\t\t\t\t\tqueue.append(child)\n",
        "\t\telif type==\"DFS\":\n",
        "\t\t\tini_node = Node(problem.initial_state, None, None, 0)\n",
        "\t\t\tstack = deque([ini_node])\n",
        "\t\t\texplored_set = set()\n",
        "\t\t\twhile stack:\n",
        "\t\t\t\tnode = stack.pop()\n",
        "\t\t\t\texplored_set.add(node)\n",
        "\t\t\t\tprint(problem.actions(node))\n",
        "\t\t\t\tfor action in problem.actions(node):\n",
        "\t\t\t\t\tprint(action)\n",
        "\t\t\t\t\tchild = node.child_node(problem, action)\n",
        "\t\t\t\t\tprint(child.state)\n",
        "\t\t\t\t\tif child not in explored_set and child not in stack:\n",
        "\t\t\t\t\t\tif problem.goal_test(child.state):\n",
        "\t\t\t\t\t\t\tprint(\"Sequence of actions are: \")\n",
        "\t\t\t\t\t\t\treturn child.solution()\n",
        "\t\t\t\t\t\tstack.append(child)\n",
        "\t\telif type==\"Bidir\":\n",
        "\t\t\tproblem1 = Problem(problem.initial_state, self.formulate_goal())\n",
        "\t\t\tproblem2 = Problem(self.formulate_goal(), problem.initial_state)\n",
        "\t\t\tini_node = Node(problem.initial_state, None, None, 0)\n",
        "\t\t\tfin_node = Node(self.formulate_goal(), None, None, 0)\n",
        "\t\t\tstart_frontier = deque([ini_node])\n",
        "\t\t\tstart_explored = set()\n",
        "\t\t\tl=[]\n",
        "\t\t\tl1=[]\n",
        "\t\t\tl2=[]\n",
        "\t\t\tend_frontier = deque([fin_node])\n",
        "\t\t\tend_explored = set()\n",
        "\t\t\twhile start_frontier and end_frontier and len([i.state for i in start_frontier for j in end_frontier if i.state==j.state] )==0:\n",
        "\t\t\t\tnode = start_frontier.popleft()\n",
        "\t\t\t\tstart_explored.add(node)\n",
        "\t\t\t\tfor action in problem1.actions(node):\n",
        "\t\t\t\t\tchild = node.child_node(problem1, action)\n",
        "\t\t\t\t\tif child not in start_frontier and child not in start_explored:\n",
        "\t\t\t\t\t\tif problem1.goal_test(child.state):\n",
        "\t\t\t\t\t\t\tprint(\"Sequence of actions are: \")\n",
        "\t\t\t\t\t\t\tl1.append(child.solution())\n",
        "\t\t\t\t\t\t\tprint(child.solution())\n",
        "\t\t\t\t\t\t\tbreak\n",
        "\t\t\t\t\t\tstart_frontier.append(child)\n",
        "\n",
        "\t\t\t\tnode = end_frontier.popleft()\n",
        "\t\t\t\tend_explored.add(node)\n",
        "\t\t\t\tfor action in problem2.actions(node):\n",
        "\t\t\t\t\tchild = node.child_node(problem2, action)\n",
        "\t\t\t\t\tif child not in end_frontier and child not in end_explored:\n",
        "\t\t\t\t\t\tif problem2.goal_test(child.state):\n",
        "\t\t\t\t\t\t\tprint(\"Sequence of actions are: \")\n",
        "\t\t\t\t\t\t\tl2.append(child.solution())\n",
        "\t\t\t\t\t\t\tprint(child.solution())\n",
        "\t\t\t\t\t\t\tbreak\n",
        "\t\t\t\t\t\tend_frontier.append(child)\n",
        "\n",
        "\t\t\tprint([i.state for i in start_frontier for j in end_frontier if i.state==j.state])\n",
        "\t\t\t# print([i.state for i in start_frontier])\n",
        "\t\t\t# print([j.state for j in end_frontier])\n",
        "\t\t\tp=[i.state for i in start_frontier for j in end_frontier if i.state==j.state]\n",
        "\t\t\tif not l1 or not l2:\n",
        "\t\t\t\t# print(\"First if\")\n",
        "\t\t\t\tl=l1+l2\n",
        "\t\t\telse:\n",
        "\t\t\t\t# print(\"next if\")\n",
        "\t\t\t\tx=[]\n",
        "\t\t\t\ty=[]\n",
        "\t\t\t\tfor i in start_frontier:\n",
        "\t\t\t\t\tfor j in end_frontier:\n",
        "\t\t\t\t\t\tif i.state==j.state:\n",
        "\t\t\t\t\t\t\tl=i.solution()[::-1]+j.solution()[1:]\n",
        "\t\t\t\t\t\t\tbreak\n",
        "\t\t\tprint(l)\n",
        "\t\t\treturn l\n",
        "\n",
        "\t\telif type==\"A*\":\n",
        "\t\t\tini_node = Node(problem.initial_state, None, None, 0, heuristic(problem.initial_state, self.formulate_goal()))\n",
        "\t\t\t\n",
        "\t\t\theap = []\n",
        "\t\t\tini_node.tot = ini_node.heuristic + ini_node.path_cost\n",
        "\t\t\theappush(heap, (ini_node.tot, ini_node))\t\t\t# queue.append(ini_node)\n",
        "\t\t\texplored_set = set()\n",
        "\t\t\twhile heap:\n",
        "\t\t\t\tnode = heappop(heap)\n",
        "\t\t\t\t# print(\"Node with highest priority: \", node[1].state)\n",
        "\t\t\t\tif node in heap:\n",
        "\t\t\t\t\theap.remove(node)\n",
        "\t\t\t\t\theapify(heap)\n",
        "\t\t\t\texplored_set.add(node)\n",
        "\t\t\t\tif problem.goal_test(node[1].state):\n",
        "\t\t\t\t\tprint(\"Sequence of actions are: \")\n",
        "\t\t\t\t\treturn node[1].solution()\n",
        "\n",
        "\t\t\t\tfor action in problem.actions(node[1]):\n",
        "\t\t\t\t\tchild = node[1].child_node(problem, action)\n",
        "\t\t\t\t\tchild.heuristic = heuristic(child.state, self.formulate_goal())\n",
        "\t\t\t\t\tchild.tot = child.heuristic + child.path_cost\n",
        "\t\t\t\t\tif child not in explored_set:\n",
        "\t\t\t\t\t\tif problem.goal_test(child.state):\n",
        "\t\t\t\t\t\t\tprint(\"Sequence of actions are: \")\n",
        "\t\t\t\t\t\t\treturn child.solution()\n",
        "\t\t\t\t\t\theappush(heap, (child.tot, child))\n",
        "\n",
        "print(\"Enter input state: \")\n",
        "start_state = input()\n",
        "if start_state==\"Bengaluru\":\n",
        "\tstart_state = \"Bangalore\"\n",
        "\n",
        "print(\"Enter goal state: \")\n",
        "goal_state = input()\n",
        "\n",
        "print(\"Enter one of these:   BFS    DFS    GBFS    A*\")\n",
        "typ = input()\n",
        "obj = ProblemSolvingAgent(start_state)\n",
        "ans = obj.call_agent(start_state, typ)\n",
        "# if None in ans:\n",
        "ans.remove(None)\n",
        "ans.append(start_state)\n",
        "ans = ans[::-1]\n",
        "print(ans)"
      ],
      "execution_count": 83,
      "outputs": [
        {
          "output_type": "stream",
          "text": [
            "Enter input state: \n",
            "Jaipur\n",
            "Enter goal state: \n",
            "Shimla\n",
            "Enter one of these:   BFS    DFS    GBFS    A*\n",
            "A*\n",
            "Sequence of actions are: \n",
            "['Jaipur', 'Chandigarh', 'Shimla']\n"
          ],
          "name": "stdout"
        }
      ]
    },
    {
      "cell_type": "code",
      "metadata": {
        "id": "kzVWmpAjBxSx",
        "colab_type": "code",
        "colab": {}
      },
      "source": [
        "from graphviz import Digraph"
      ],
      "execution_count": 0,
      "outputs": []
    },
    {
      "cell_type": "code",
      "metadata": {
        "id": "X5HLT-tmRRxp",
        "colab_type": "code",
        "colab": {}
      },
      "source": [
        "graph = Digraph(\"episodes\", filename=\"city.gv\")"
      ],
      "execution_count": 0,
      "outputs": []
    },
    {
      "cell_type": "code",
      "metadata": {
        "id": "O0RIBjltRUWj",
        "colab_type": "code",
        "colab": {}
      },
      "source": [
        "df = pd.read_excel('Indian_capitals.xlsx', header=None)\n",
        "start = df[0]\n",
        "end = df[1]\n",
        "# print(start)\n",
        "# graph.attr('node')\n",
        "for i in start:\n",
        "  for j in end:\n",
        "    if i!=j:\n",
        "      graph.edge(i,j)"
      ],
      "execution_count": 0,
      "outputs": []
    },
    {
      "cell_type": "code",
      "metadata": {
        "id": "PdmYnaGnRXAG",
        "colab_type": "code",
        "colab": {
          "base_uri": "https://localhost:8080/",
          "height": 35
        },
        "outputId": "ecf09a84-38f8-4099-a783-036f90d1e581"
      },
      "source": [
        "graph.view()"
      ],
      "execution_count": 87,
      "outputs": [
        {
          "output_type": "execute_result",
          "data": {
            "text/plain": [
              "'city.gv.pdf'"
            ]
          },
          "metadata": {
            "tags": []
          },
          "execution_count": 87
        }
      ]
    },
    {
      "cell_type": "code",
      "metadata": {
        "id": "V5pTmOvZRaNq",
        "colab_type": "code",
        "colab": {}
      },
      "source": [
        ""
      ],
      "execution_count": 0,
      "outputs": []
    }
  ]
}